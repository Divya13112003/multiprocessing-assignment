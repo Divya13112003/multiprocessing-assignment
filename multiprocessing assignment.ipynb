{
 "cells": [
  {
   "cell_type": "code",
   "execution_count": null,
   "id": "7e8a2855-239a-4ec0-b21d-26240a8a65b3",
   "metadata": {},
   "outputs": [],
   "source": [
    " Q1. What is multiprocessing in python? Why is it useful?\n",
    "    \n",
    "Multiprocessing in Python is a built-in package that allows the system to run multiple \n",
    "processes simultaneously. It will enable the breaking of applications into smaller threads\n",
    "that can run independently.                       "
   ]
  },
  {
   "cell_type": "code",
   "execution_count": null,
   "id": "7446c732-93cf-45ee-919e-1ecd3b0a8d85",
   "metadata": {},
   "outputs": [],
   "source": [
    "Q2. What are the differences between multiprocessing and multithreading?\n",
    "\n",
    "Multiprocessing uses two or more CPUs to increase computing power, whereas\n",
    "multithreading uses a single process with multiple code segments to increase computing power.\n",
    "Multithreading focuses on generating computing threads from a single process, whereas\n",
    "multiprocessing increases computing power by adding CPUs."
   ]
  },
  {
   "cell_type": "code",
   "execution_count": 1,
   "id": "3be94ed0-96fe-4483-a383-29ec307812dc",
   "metadata": {},
   "outputs": [
    {
     "name": "stdout",
     "output_type": "stream",
     "text": [
      "Square: 100\n",
      "Cube: 1000\n",
      "Done!\n"
     ]
    }
   ],
   "source": [
    "Q3. Write a python code to create a process using the multiprocessing module.\n",
    "\n",
    "\n",
    "# importing the multiprocessing module \n",
    "import multiprocessing \n",
    "\n",
    "def print_cube(num): \n",
    "\t\"\"\" \n",
    "\tfunction to print cube of given num \n",
    "\t\"\"\"\n",
    "\tprint(\"Cube: {}\".format(num * num * num)) \n",
    "\n",
    "def print_square(num): \n",
    "\t\"\"\" \n",
    "\tfunction to print square of given num \n",
    "\t\"\"\"\n",
    "\tprint(\"Square: {}\".format(num * num)) \n",
    "\n",
    "if __name__ == \"__main__\": \n",
    "\t# creating processes \n",
    "\tp1 = multiprocessing.Process(target=print_square, args=(10, )) \n",
    "\tp2 = multiprocessing.Process(target=print_cube, args=(10, )) \n",
    "\n",
    "\t# starting process 1 \n",
    "\tp1.start() \n",
    "\t# starting process 2 \n",
    "\tp2.start() \n",
    "\n",
    "\t# wait until process 1 is finished \n",
    "\tp1.join() \n",
    "\t# wait until process 2 is finished \n",
    "\tp2.join() \n",
    "\n",
    "\t# both processes finished \n",
    "\tprint(\"Done!\") \n"
   ]
  },
  {
   "cell_type": "code",
   "execution_count": null,
   "id": "9a987d91-5479-4db6-83fb-29214a32cfae",
   "metadata": {},
   "outputs": [],
   "source": [
    "Q4. What is a multiprocessing pool in python? Why is it used?\n",
    "\n",
    "\n",
    "Multiprocessing in Python is a built-in package that allows the system to run multiple \n",
    "processes simultaneously. It will enable the breaking of applications into smaller threads\n",
    "that can run independently.\n"
   ]
  },
  {
   "cell_type": "code",
   "execution_count": 7,
   "id": "a3184679-a744-4d05-9c2c-d44a18f5b356",
   "metadata": {},
   "outputs": [
    {
     "name": "stdout",
     "output_type": "stream",
     "text": [
      "Worker started\n",
      "Computing things!\n",
      "9\n",
      "Worker started\n",
      "Worker started\n",
      "Worker started\n",
      "Worker started\n"
     ]
    },
    {
     "ename": "NameError",
     "evalue": "name 'compute' is not defined",
     "output_type": "error",
     "traceback": [
      "\u001b[0;31m---------------------------------------------------------------------------\u001b[0m",
      "\u001b[0;31mNameError\u001b[0m                                 Traceback (most recent call last)",
      "Cell \u001b[0;32mIn[7], line 23\u001b[0m\n\u001b[1;32m     21\u001b[0m data \u001b[38;5;241m=\u001b[39m \u001b[38;5;28mrange\u001b[39m(\u001b[38;5;241m10\u001b[39m)\n\u001b[1;32m     22\u001b[0m \u001b[38;5;66;03m# How to use my worker pool?\u001b[39;00m\n\u001b[0;32m---> 23\u001b[0m result \u001b[38;5;241m=\u001b[39m pool\u001b[38;5;241m.\u001b[39mmap(\u001b[43mcompute\u001b[49m, data)\n",
      "\u001b[0;31mNameError\u001b[0m: name 'compute' is not defined"
     ]
    }
   ],
   "source": [
    "Q5.  How can we create a pool of worker processes in python using the multiprocessing module?\n",
    "\n",
    "\n",
    "from multiprocessing import Pool, Process\n",
    "\n",
    "class Worker(Process):\n",
    "    def __init__(self):\n",
    "        print ('Worker started')\n",
    "        # do some initialization here\n",
    "        super(Worker, self).__init__()\n",
    "\n",
    "    def compute(self, data):\n",
    "        print ('Computing things!')\n",
    "        return data * data\n",
    "\n",
    "if __name__ == '__main__':\n",
    "    # This works fine\n",
    "    worker = Worker()\n",
    "    print (worker.compute(3))\n",
    "\n",
    "    # workers get initialized fine\n",
    "    pool = Pool(processes = 4,\n",
    "                initializer = Worker)\n",
    "    data = range(10)\n",
    "    # How to use my worker pool?\n",
    "    result = pool.map(compute, data)"
   ]
  },
  {
   "cell_type": "code",
   "execution_count": 11,
   "id": "08afe5aa-34a1-41bb-885f-8757b35eb06c",
   "metadata": {},
   "outputs": [
    {
     "ename": "IndentationError",
     "evalue": "expected an indented block after function definition on line 5 (2824981384.py, line 7)",
     "output_type": "error",
     "traceback": [
      "\u001b[0;36m  Cell \u001b[0;32mIn[11], line 7\u001b[0;36m\u001b[0m\n\u001b[0;31m    for _ in range(10000):\u001b[0m\n\u001b[0m    ^\u001b[0m\n\u001b[0;31mIndentationError\u001b[0m\u001b[0;31m:\u001b[0m expected an indented block after function definition on line 5\n"
     ]
    }
   ],
   "source": [
    "Q6. Write a python program to create 4 processes, each process should print a different number using the \n",
    "multiprocessing module in pythonimport multiprocessing.\n",
    "\n",
    "\n",
    "import multiprocessing\n",
    "\n",
    "# Withdrawal function\n",
    "\n",
    "def wthdrw(bal, lock):\n",
    "\n",
    "for _ in range(10000):\n",
    "\n",
    "lock.acquire()\n",
    "\n",
    "bal.value = bal.value - 1\n",
    "\n",
    "lock.release()\n",
    "\n",
    "# Deposit function\n",
    "\n",
    "def dpst(bal, lock):\n",
    "\n",
    "for _ in range(10000):\n",
    "\n",
    "lock.acquire()\n",
    "\n",
    "bal.value = bal.value + 1\n",
    "\n",
    "lock.release()\n",
    "\n",
    "def transact():\n",
    "\n",
    "# initial balance\n",
    "\n",
    "bal = multiprocessing.Value('i', 100)\n",
    "\n",
    "# creating lock object\n",
    "\n",
    "lock = multiprocessing.Lock()\n",
    "\n",
    "# creating processes\n",
    "\n",
    "proc1 = multiprocessing.Process(target=wthdrw, args=(bal,lock))\n",
    "\n",
    "proc2 = multiprocessing.Process(target=dpst, args=(bal,lock))\n",
    "\n",
    "# starting processes\n",
    "\n",
    "proc1.start()\n",
    "\n",
    "proc2.start()\n",
    "\n",
    "# waiting for processes to finish\n",
    "\n",
    "proc1.join()\n",
    "\n",
    "proc2.join()\n",
    "\n",
    "# printing final balance\n",
    "\n",
    "print(\"Final balance = {}\".format(bal.value))\n",
    "\n",
    "if __name__ == \"__main__\":\n",
    "\n",
    "for _ in range(10):\n",
    "\n",
    "# performing transaction process\n",
    "\n",
    "transact()\n",
    "\n"
   ]
  },
  {
   "cell_type": "code",
   "execution_count": null,
   "id": "22911631-5881-4187-ab2b-d73d4d37caa4",
   "metadata": {},
   "outputs": [],
   "source": []
  }
 ],
 "metadata": {
  "kernelspec": {
   "display_name": "Python 3 (ipykernel)",
   "language": "python",
   "name": "python3"
  },
  "language_info": {
   "codemirror_mode": {
    "name": "ipython",
    "version": 3
   },
   "file_extension": ".py",
   "mimetype": "text/x-python",
   "name": "python",
   "nbconvert_exporter": "python",
   "pygments_lexer": "ipython3",
   "version": "3.10.8"
  }
 },
 "nbformat": 4,
 "nbformat_minor": 5
}
